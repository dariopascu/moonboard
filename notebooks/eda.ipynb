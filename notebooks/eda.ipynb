{
 "cells": [
  {
   "cell_type": "code",
   "execution_count": 5,
   "metadata": {},
   "outputs": [],
   "source": [
    "from moonboard.config import Setup\n",
    "from moonboard.api import get_json_data\n",
    "\n",
    "import pandas as pd"
   ]
  },
  {
   "cell_type": "code",
   "execution_count": 2,
   "metadata": {},
   "outputs": [],
   "source": [
    "json_data = get_json_data(\n",
    "    initial_problem=0,\n",
    "    moonboard_setup=Setup.Moonboard_Masters_2017_25,\n",
    ")"
   ]
  },
  {
   "cell_type": "code",
   "execution_count": 6,
   "outputs": [],
   "source": [
    "table_data = pd.DataFrame.from_records(json_data.get('data'))"
   ],
   "metadata": {
    "collapsed": false
   }
  },
  {
   "cell_type": "code",
   "execution_count": 7,
   "outputs": [
    {
     "data": {
      "text/plain": "                       name grade userGrade  \\\n0      WITNESS THE SOFTNESS    6A        6A   \n1                 @20d test    5+        5+   \n2              What do want   6C+      None   \n3                      0153    6A        6A   \n4                  Flash104    6A        6A   \n...                     ...   ...       ...   \n10846  Don’t F*** my ball’s    6B      None   \n10847               CRUX-IO   7A+      None   \n10848             MULTIPICH   6C+      None   \n10849       Dank dimensions   6B+      None   \n10850                 Izard   6C+      None   \n\n                                    setbyId        setby  \\\n0      abafbf12-e9f3-4c20-a0a7-09fd9c9d8c6c  Austin hoyt   \n1      DA0A3398-59F6-4817-B7D7-AB0CF0AEB5B0     Kisky ry   \n2      abafbf12-e9f3-4c20-a0a7-09fd9c9d8c6c  Austin hoyt   \n3      ef015b80-ca25-4234-8b4d-93fe1a69f053          Leo   \n4      ef015b80-ca25-4234-8b4d-93fe1a69f053          Leo   \n...                                     ...          ...   \n10846  489c7613-bee3-4267-995c-70523ba961cd     JotaSala   \n10847  489c7613-bee3-4267-995c-70523ba961cd     JotaSala   \n10848  02d287ed-66fb-4231-8d3b-05f94ccf6bb9       daruro   \n10849  658641d1-a8ea-4a0f-bac6-2e573453e4fa        Hanga   \n10850  658641d1-a8ea-4a0f-bac6-2e573453e4fa        Hanga   \n\n                              method  userRating  repeats  \\\n0      Feet follow hands + screw ons           4      521   \n1      Feet follow hands + screw ons           4      137   \n2                  Feet follow hands           0        0   \n3                  Feet follow hands           4      136   \n4                  Feet follow hands           4       36   \n...                              ...         ...      ...   \n10846              Feet follow hands           0        0   \n10847              Feet follow hands           0        0   \n10848              Feet follow hands           0        0   \n10849              Feet follow hands           0        0   \n10850              Feet follow hands           0        0   \n\n                                               holdsetup  isBenchmark  ...  \\\n0      {'description': 'MoonBoard Masters 2017', 'hol...         True  ...   \n1      {'description': 'MoonBoard Masters 2017', 'hol...        False  ...   \n2      {'description': 'MoonBoard Masters 2017', 'hol...        False  ...   \n3      {'description': 'MoonBoard Masters 2017', 'hol...        False  ...   \n4      {'description': 'MoonBoard Masters 2017', 'hol...        False  ...   \n...                                                  ...          ...  ...   \n10846  {'description': 'MoonBoard Masters 2017', 'hol...        False  ...   \n10847  {'description': 'MoonBoard Masters 2017', 'hol...        False  ...   \n10848  {'description': 'MoonBoard Masters 2017', 'hol...        False  ...   \n10849  {'description': 'MoonBoard Masters 2017', 'hol...        False  ...   \n10850  {'description': 'MoonBoard Masters 2017', 'hol...        False  ...   \n\n       upgraded  downgraded  \\\n0         False       False   \n1         False       False   \n2         False       False   \n3         False       False   \n4         False       False   \n...         ...         ...   \n10846     False       False   \n10847     False       False   \n10848     False       False   \n10849     False       False   \n10850     False       False   \n\n                                                   moves  \\\n0      [{'problemId': 308284, 'description': 'D9', 'i...   \n1      [{'problemId': 308337, 'description': 'D5', 'i...   \n2      [{'problemId': 308377, 'description': 'I5', 'i...   \n3      [{'problemId': 308557, 'description': 'H5', 'i...   \n4      [{'problemId': 308698, 'description': 'H1', 'i...   \n...                                                  ...   \n10846  [{'problemId': 464688, 'description': 'D2', 'i...   \n10847  [{'problemId': 464689, 'description': 'I2', 'i...   \n10848  [{'problemId': 464713, 'description': 'A5', 'i...   \n10849  [{'problemId': 464721, 'description': 'J5', 'i...   \n10850  [{'problemId': 464723, 'description': 'I3', 'i...   \n\n                                                holdsets hasBetaVideo  \\\n0      [{'description': 'Hold Set A', 'locations': No...        False   \n1      [{'description': 'Hold Set A', 'locations': No...        False   \n2      [{'description': 'Original School Holds', 'loc...        False   \n3      [{'description': 'Hold Set A', 'locations': No...        False   \n4      [{'description': 'Original School Holds', 'loc...        False   \n...                                                  ...          ...   \n10846  [{'description': 'Hold Set C', 'locations': No...        False   \n10847  [{'description': 'Original School Holds', 'loc...        False   \n10848  [{'description': 'Original School Holds', 'loc...        False   \n10849  [{'description': 'Hold Set A', 'locations': No...        False   \n10850  [{'description': 'Original School Holds', 'loc...        False   \n\n       moonBoardConfigurationId   apiId             dateInserted  \\\n0                             2  308284  2017-12-09T19:11:07.127   \n1                             2  308337  2017-12-09T20:21:16.773   \n2                             2  308377   2017-12-10T00:39:50.52   \n3                             2  308557   2017-12-11T08:05:03.22   \n4                             2  308698   2017-12-12T07:26:46.89   \n...                         ...     ...                      ...   \n10846                         2  464688   2023-02-17T10:58:52.43   \n10847                         2  464689   2023-02-17T11:08:42.33   \n10848                         2  464713  2023-02-17T15:22:54.417   \n10849                         2  464721  2023-02-17T17:57:22.863   \n10850                         2  464723  2023-02-17T18:05:44.243   \n\n                   dateUpdated dateDeleted  \n0      2023-02-17T13:02:01.777        None  \n1      2023-02-17T12:35:25.967        None  \n2      2017-12-11T14:00:36.167        None  \n3      2023-02-13T07:34:58.033        None  \n4      2023-02-07T14:12:56.307        None  \n...                        ...         ...  \n10846                     None        None  \n10847                     None        None  \n10848                     None        None  \n10849                     None        None  \n10850                     None        None  \n\n[10851 rows x 21 columns]",
      "text/html": "<div>\n<style scoped>\n    .dataframe tbody tr th:only-of-type {\n        vertical-align: middle;\n    }\n\n    .dataframe tbody tr th {\n        vertical-align: top;\n    }\n\n    .dataframe thead th {\n        text-align: right;\n    }\n</style>\n<table border=\"1\" class=\"dataframe\">\n  <thead>\n    <tr style=\"text-align: right;\">\n      <th></th>\n      <th>name</th>\n      <th>grade</th>\n      <th>userGrade</th>\n      <th>setbyId</th>\n      <th>setby</th>\n      <th>method</th>\n      <th>userRating</th>\n      <th>repeats</th>\n      <th>holdsetup</th>\n      <th>isBenchmark</th>\n      <th>...</th>\n      <th>upgraded</th>\n      <th>downgraded</th>\n      <th>moves</th>\n      <th>holdsets</th>\n      <th>hasBetaVideo</th>\n      <th>moonBoardConfigurationId</th>\n      <th>apiId</th>\n      <th>dateInserted</th>\n      <th>dateUpdated</th>\n      <th>dateDeleted</th>\n    </tr>\n  </thead>\n  <tbody>\n    <tr>\n      <th>0</th>\n      <td>WITNESS THE SOFTNESS</td>\n      <td>6A</td>\n      <td>6A</td>\n      <td>abafbf12-e9f3-4c20-a0a7-09fd9c9d8c6c</td>\n      <td>Austin hoyt</td>\n      <td>Feet follow hands + screw ons</td>\n      <td>4</td>\n      <td>521</td>\n      <td>{'description': 'MoonBoard Masters 2017', 'hol...</td>\n      <td>True</td>\n      <td>...</td>\n      <td>False</td>\n      <td>False</td>\n      <td>[{'problemId': 308284, 'description': 'D9', 'i...</td>\n      <td>[{'description': 'Hold Set A', 'locations': No...</td>\n      <td>False</td>\n      <td>2</td>\n      <td>308284</td>\n      <td>2017-12-09T19:11:07.127</td>\n      <td>2023-02-17T13:02:01.777</td>\n      <td>None</td>\n    </tr>\n    <tr>\n      <th>1</th>\n      <td>@20d test</td>\n      <td>5+</td>\n      <td>5+</td>\n      <td>DA0A3398-59F6-4817-B7D7-AB0CF0AEB5B0</td>\n      <td>Kisky ry</td>\n      <td>Feet follow hands + screw ons</td>\n      <td>4</td>\n      <td>137</td>\n      <td>{'description': 'MoonBoard Masters 2017', 'hol...</td>\n      <td>False</td>\n      <td>...</td>\n      <td>False</td>\n      <td>False</td>\n      <td>[{'problemId': 308337, 'description': 'D5', 'i...</td>\n      <td>[{'description': 'Hold Set A', 'locations': No...</td>\n      <td>False</td>\n      <td>2</td>\n      <td>308337</td>\n      <td>2017-12-09T20:21:16.773</td>\n      <td>2023-02-17T12:35:25.967</td>\n      <td>None</td>\n    </tr>\n    <tr>\n      <th>2</th>\n      <td>What do want</td>\n      <td>6C+</td>\n      <td>None</td>\n      <td>abafbf12-e9f3-4c20-a0a7-09fd9c9d8c6c</td>\n      <td>Austin hoyt</td>\n      <td>Feet follow hands</td>\n      <td>0</td>\n      <td>0</td>\n      <td>{'description': 'MoonBoard Masters 2017', 'hol...</td>\n      <td>False</td>\n      <td>...</td>\n      <td>False</td>\n      <td>False</td>\n      <td>[{'problemId': 308377, 'description': 'I5', 'i...</td>\n      <td>[{'description': 'Original School Holds', 'loc...</td>\n      <td>False</td>\n      <td>2</td>\n      <td>308377</td>\n      <td>2017-12-10T00:39:50.52</td>\n      <td>2017-12-11T14:00:36.167</td>\n      <td>None</td>\n    </tr>\n    <tr>\n      <th>3</th>\n      <td>0153</td>\n      <td>6A</td>\n      <td>6A</td>\n      <td>ef015b80-ca25-4234-8b4d-93fe1a69f053</td>\n      <td>Leo</td>\n      <td>Feet follow hands</td>\n      <td>4</td>\n      <td>136</td>\n      <td>{'description': 'MoonBoard Masters 2017', 'hol...</td>\n      <td>False</td>\n      <td>...</td>\n      <td>False</td>\n      <td>False</td>\n      <td>[{'problemId': 308557, 'description': 'H5', 'i...</td>\n      <td>[{'description': 'Hold Set A', 'locations': No...</td>\n      <td>False</td>\n      <td>2</td>\n      <td>308557</td>\n      <td>2017-12-11T08:05:03.22</td>\n      <td>2023-02-13T07:34:58.033</td>\n      <td>None</td>\n    </tr>\n    <tr>\n      <th>4</th>\n      <td>Flash104</td>\n      <td>6A</td>\n      <td>6A</td>\n      <td>ef015b80-ca25-4234-8b4d-93fe1a69f053</td>\n      <td>Leo</td>\n      <td>Feet follow hands</td>\n      <td>4</td>\n      <td>36</td>\n      <td>{'description': 'MoonBoard Masters 2017', 'hol...</td>\n      <td>False</td>\n      <td>...</td>\n      <td>False</td>\n      <td>False</td>\n      <td>[{'problemId': 308698, 'description': 'H1', 'i...</td>\n      <td>[{'description': 'Original School Holds', 'loc...</td>\n      <td>False</td>\n      <td>2</td>\n      <td>308698</td>\n      <td>2017-12-12T07:26:46.89</td>\n      <td>2023-02-07T14:12:56.307</td>\n      <td>None</td>\n    </tr>\n    <tr>\n      <th>...</th>\n      <td>...</td>\n      <td>...</td>\n      <td>...</td>\n      <td>...</td>\n      <td>...</td>\n      <td>...</td>\n      <td>...</td>\n      <td>...</td>\n      <td>...</td>\n      <td>...</td>\n      <td>...</td>\n      <td>...</td>\n      <td>...</td>\n      <td>...</td>\n      <td>...</td>\n      <td>...</td>\n      <td>...</td>\n      <td>...</td>\n      <td>...</td>\n      <td>...</td>\n      <td>...</td>\n    </tr>\n    <tr>\n      <th>10846</th>\n      <td>Don’t F*** my ball’s</td>\n      <td>6B</td>\n      <td>None</td>\n      <td>489c7613-bee3-4267-995c-70523ba961cd</td>\n      <td>JotaSala</td>\n      <td>Feet follow hands</td>\n      <td>0</td>\n      <td>0</td>\n      <td>{'description': 'MoonBoard Masters 2017', 'hol...</td>\n      <td>False</td>\n      <td>...</td>\n      <td>False</td>\n      <td>False</td>\n      <td>[{'problemId': 464688, 'description': 'D2', 'i...</td>\n      <td>[{'description': 'Hold Set C', 'locations': No...</td>\n      <td>False</td>\n      <td>2</td>\n      <td>464688</td>\n      <td>2023-02-17T10:58:52.43</td>\n      <td>None</td>\n      <td>None</td>\n    </tr>\n    <tr>\n      <th>10847</th>\n      <td>CRUX-IO</td>\n      <td>7A+</td>\n      <td>None</td>\n      <td>489c7613-bee3-4267-995c-70523ba961cd</td>\n      <td>JotaSala</td>\n      <td>Feet follow hands</td>\n      <td>0</td>\n      <td>0</td>\n      <td>{'description': 'MoonBoard Masters 2017', 'hol...</td>\n      <td>False</td>\n      <td>...</td>\n      <td>False</td>\n      <td>False</td>\n      <td>[{'problemId': 464689, 'description': 'I2', 'i...</td>\n      <td>[{'description': 'Original School Holds', 'loc...</td>\n      <td>False</td>\n      <td>2</td>\n      <td>464689</td>\n      <td>2023-02-17T11:08:42.33</td>\n      <td>None</td>\n      <td>None</td>\n    </tr>\n    <tr>\n      <th>10848</th>\n      <td>MULTIPICH</td>\n      <td>6C+</td>\n      <td>None</td>\n      <td>02d287ed-66fb-4231-8d3b-05f94ccf6bb9</td>\n      <td>daruro</td>\n      <td>Feet follow hands</td>\n      <td>0</td>\n      <td>0</td>\n      <td>{'description': 'MoonBoard Masters 2017', 'hol...</td>\n      <td>False</td>\n      <td>...</td>\n      <td>False</td>\n      <td>False</td>\n      <td>[{'problemId': 464713, 'description': 'A5', 'i...</td>\n      <td>[{'description': 'Original School Holds', 'loc...</td>\n      <td>False</td>\n      <td>2</td>\n      <td>464713</td>\n      <td>2023-02-17T15:22:54.417</td>\n      <td>None</td>\n      <td>None</td>\n    </tr>\n    <tr>\n      <th>10849</th>\n      <td>Dank dimensions</td>\n      <td>6B+</td>\n      <td>None</td>\n      <td>658641d1-a8ea-4a0f-bac6-2e573453e4fa</td>\n      <td>Hanga</td>\n      <td>Feet follow hands</td>\n      <td>0</td>\n      <td>0</td>\n      <td>{'description': 'MoonBoard Masters 2017', 'hol...</td>\n      <td>False</td>\n      <td>...</td>\n      <td>False</td>\n      <td>False</td>\n      <td>[{'problemId': 464721, 'description': 'J5', 'i...</td>\n      <td>[{'description': 'Hold Set A', 'locations': No...</td>\n      <td>False</td>\n      <td>2</td>\n      <td>464721</td>\n      <td>2023-02-17T17:57:22.863</td>\n      <td>None</td>\n      <td>None</td>\n    </tr>\n    <tr>\n      <th>10850</th>\n      <td>Izard</td>\n      <td>6C+</td>\n      <td>None</td>\n      <td>658641d1-a8ea-4a0f-bac6-2e573453e4fa</td>\n      <td>Hanga</td>\n      <td>Feet follow hands</td>\n      <td>0</td>\n      <td>0</td>\n      <td>{'description': 'MoonBoard Masters 2017', 'hol...</td>\n      <td>False</td>\n      <td>...</td>\n      <td>False</td>\n      <td>False</td>\n      <td>[{'problemId': 464723, 'description': 'I3', 'i...</td>\n      <td>[{'description': 'Original School Holds', 'loc...</td>\n      <td>False</td>\n      <td>2</td>\n      <td>464723</td>\n      <td>2023-02-17T18:05:44.243</td>\n      <td>None</td>\n      <td>None</td>\n    </tr>\n  </tbody>\n</table>\n<p>10851 rows × 21 columns</p>\n</div>"
     },
     "execution_count": 7,
     "metadata": {},
     "output_type": "execute_result"
    }
   ],
   "source": [
    "table_data"
   ],
   "metadata": {
    "collapsed": false
   }
  },
  {
   "cell_type": "code",
   "execution_count": null,
   "outputs": [],
   "source": [],
   "metadata": {
    "collapsed": false
   }
  }
 ],
 "metadata": {
  "kernelspec": {
   "display_name": "Python 3 (ipykernel)",
   "language": "python",
   "name": "python3"
  },
  "language_info": {
   "codemirror_mode": {
    "name": "ipython",
    "version": 3
   },
   "file_extension": ".py",
   "mimetype": "text/x-python",
   "name": "python",
   "nbconvert_exporter": "python",
   "pygments_lexer": "ipython3",
   "version": "3.10.9"
  }
 },
 "nbformat": 4,
 "nbformat_minor": 1
}
